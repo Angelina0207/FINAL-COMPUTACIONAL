{
  "cells": [
    {
      "cell_type": "markdown",
      "metadata": {
        "id": "view-in-github",
        "colab_type": "text"
      },
      "source": [
        "<a href=\"https://colab.research.google.com/github/Angelina0207/FINAL-COMPUTACIONAL/blob/main/Piedra_Papel_o_Tijera.ipynb\" target=\"_parent\"><img src=\"https://colab.research.google.com/assets/colab-badge.svg\" alt=\"Open In Colab\"/></a>"
      ]
    },
    {
      "cell_type": "code",
      "execution_count": null,
      "metadata": {
        "id": "2i89mEs0uw9J"
      },
      "outputs": [],
      "source": [
        "# Paso 1: Importar las bibliotecas necesarias\n",
        "import random  # Importar la biblioteca random para generar números aleatorios\n",
        "import ipywidgets as widgets  # Importar ipywidgets para crear widgets interactivos\n",
        "from IPython.display import display  # Importar display para mostrar widgets en el notebook\n"
      ]
    },
    {
      "cell_type": "code",
      "source": [
        "# Paso 2: Definir las opciones del juego\n",
        "opciones = [\"Piedra\", \"Papel\", \"Tijera\"]  # Definir las opciones del juego como una lista"
      ],
      "metadata": {
        "id": "ig6iztGDVKiA"
      },
      "execution_count": null,
      "outputs": []
    },
    {
      "cell_type": "code",
      "source": [
        "# Paso 3: Crear una función para que la computadora elija su opción de forma aleatoria\n",
        "def elegir_opcion_computadora():\n",
        "    return random.choice(opciones)  # Devolver una opción aleatoria de la lista de opciones"
      ],
      "metadata": {
        "id": "RcyCPk_mVRi_"
      },
      "execution_count": null,
      "outputs": []
    },
    {
      "cell_type": "code",
      "source": [
        "# Paso 4: Crear una función para comparar las opciones del jugador y de la computadora\n",
        "def comparar_opciones(opcion_jugador, opcion_computadora):\n",
        "    # Comparar las opciones del jugador y de la computadora para determinar el resultado\n",
        "    if opcion_jugador == opcion_computadora:\n",
        "        return \"Empate\"\n",
        "    elif (opcion_jugador == \"Piedra\" and opcion_computadora == \"Tijera\") or \\\n",
        "         (opcion_jugador == \"Papel\" and opcion_computadora == \"Piedra\") or \\\n",
        "         (opcion_jugador == \"Tijera\" and opcion_computadora == \"Papel\"):\n",
        "        return \"¡Ganaste!\"\n",
        "    else:\n",
        "        return \"¡La computadora gana!\""
      ],
      "metadata": {
        "id": "gJB6m_4dVTn_"
      },
      "execution_count": null,
      "outputs": []
    },
    {
      "cell_type": "code",
      "source": [
        "\n",
        "# Paso 5: Implementar la lógica del juego\n",
        "def jugar_juego_ppt(opcion_jugador):\n",
        "    # Función para jugar el juego de piedra, papel o tijera\n",
        "    if opcion_jugador == \"Salir\":\n",
        "        print(\"¡Gracias por jugar!\")  # Imprimir mensaje de salida si el jugador elige salir\n",
        "        return\n",
        "\n",
        "    if opcion_jugador not in opciones:\n",
        "        print(\"Opción no válida. Por favor, elige Piedra, Papel o Tijera.\")  # Imprimir mensaje si el jugador elige una opción no válida\n",
        "        return\n",
        "\n",
        "    opcion_computadora = elegir_opcion_computadora()  # Obtener la opción de la computadora\n",
        "    resultado = comparar_opciones(opcion_jugador, opcion_computadora)  # Comparar las opciones del jugador y de la computadora\n",
        "    # Imprimir el resultado del juego\n",
        "    print(f\"Tú elegiste: {opcion_jugador}\")\n",
        "    print(f\"La computadora eligió: {opcion_computadora}\")\n",
        "    print(resultado)"
      ],
      "metadata": {
        "id": "NnAskNFEVWgP"
      },
      "execution_count": null,
      "outputs": []
    },
    {
      "cell_type": "code",
      "source": [
        "# Paso 6: Definir la función que se ejecuta cuando se hace clic en el botón\n",
        "def on_button_clicked(b):\n",
        "    selected_option = button.value  # Obtener la opción seleccionada por el jugador\n",
        "    selected_index = button.options.index(selected_option)  # Obtener el índice de la opción seleccionada\n",
        "    jugar_juego_ppt(button.options[selected_index])  # Jugar el juego con la opción seleccionada"
      ],
      "metadata": {
        "id": "X2ApxuOyVY3f"
      },
      "execution_count": null,
      "outputs": []
    },
    {
      "cell_type": "code",
      "source": [
        "# Paso 7: Crear el widget de botón\n",
        "button = widgets.Dropdown(\n",
        "    options=opciones + [\"Salir\"],  # Opciones del menú desplegable incluyendo \"Salir\"\n",
        "    description='Elige:',  # Descripción del menú desplegable\n",
        ")"
      ],
      "metadata": {
        "id": "av2yUI7XVaP_"
      },
      "execution_count": null,
      "outputs": []
    },
    {
      "cell_type": "code",
      "source": [
        "# Paso 8: Asociar la función on_button_clicked al evento de cambio de valor del botón\n",
        "button.observe(on_button_clicked, names='value')"
      ],
      "metadata": {
        "id": "6vWgLzDUVcBQ"
      },
      "execution_count": null,
      "outputs": []
    },
    {
      "cell_type": "code",
      "source": [
        "# Paso 9: Mostrar el botón en el notebook\n",
        "display(button)"
      ],
      "metadata": {
        "colab": {
          "base_uri": "https://localhost:8080/",
          "height": 900,
          "referenced_widgets": [
            "cc934d04c7d74c5483f841b0339ec451",
            "bf511311d8fc4d298451a2770861cbb5",
            "15e0733100e24f11867a264e43956fcf"
          ]
        },
        "id": "AzIgc2WMVeVX",
        "outputId": "dea19577-9419-4775-ffba-160875fef8ef"
      },
      "execution_count": null,
      "outputs": [
        {
          "output_type": "display_data",
          "data": {
            "text/plain": [
              "Dropdown(description='Elige:', options=('Piedra', 'Papel', 'Tijera', 'Salir'), value='Piedra')"
            ],
            "application/vnd.jupyter.widget-view+json": {
              "version_major": 2,
              "version_minor": 0,
              "model_id": "cc934d04c7d74c5483f841b0339ec451"
            }
          },
          "metadata": {}
        },
        {
          "output_type": "stream",
          "name": "stdout",
          "text": [
            "¡Gracias por jugar!\n",
            "Tú elegiste: Piedra\n",
            "La computadora eligió: Tijera\n",
            "¡Ganaste!\n",
            "Tú elegiste: Tijera\n",
            "La computadora eligió: Papel\n",
            "¡Ganaste!\n",
            "Tú elegiste: Piedra\n",
            "La computadora eligió: Tijera\n",
            "¡Ganaste!\n",
            "Tú elegiste: Tijera\n",
            "La computadora eligió: Papel\n",
            "¡Ganaste!\n",
            "Tú elegiste: Papel\n",
            "La computadora eligió: Papel\n",
            "Empate\n",
            "Tú elegiste: Piedra\n",
            "La computadora eligió: Piedra\n",
            "Empate\n",
            "Tú elegiste: Tijera\n",
            "La computadora eligió: Papel\n",
            "¡Ganaste!\n",
            "Tú elegiste: Papel\n",
            "La computadora eligió: Papel\n",
            "Empate\n",
            "Tú elegiste: Piedra\n",
            "La computadora eligió: Tijera\n",
            "¡Ganaste!\n",
            "Tú elegiste: Tijera\n",
            "La computadora eligió: Tijera\n",
            "Empate\n",
            "Tú elegiste: Papel\n",
            "La computadora eligió: Papel\n",
            "Empate\n",
            "Tú elegiste: Tijera\n",
            "La computadora eligió: Tijera\n",
            "Empate\n",
            "Tú elegiste: Piedra\n",
            "La computadora eligió: Piedra\n",
            "Empate\n",
            "Tú elegiste: Papel\n",
            "La computadora eligió: Papel\n",
            "Empate\n",
            "Tú elegiste: Piedra\n",
            "La computadora eligió: Piedra\n",
            "Empate\n",
            "Tú elegiste: Papel\n",
            "La computadora eligió: Piedra\n",
            "¡Ganaste!\n"
          ]
        }
      ]
    },
    {
      "cell_type": "code",
      "source": [],
      "metadata": {
        "id": "b9sGI0Ixkh7k"
      },
      "execution_count": null,
      "outputs": []
    }
  ],
  "metadata": {
    "colab": {
      "provenance": [],
      "include_colab_link": true
    },
    "kernelspec": {
      "display_name": "Python 3",
      "name": "python3"
    },
    "language_info": {
      "name": "python"
    },
    "widgets": {
      "application/vnd.jupyter.widget-state+json": {
        "cc934d04c7d74c5483f841b0339ec451": {
          "model_module": "@jupyter-widgets/controls",
          "model_name": "DropdownModel",
          "model_module_version": "1.5.0",
          "state": {
            "_dom_classes": [],
            "_model_module": "@jupyter-widgets/controls",
            "_model_module_version": "1.5.0",
            "_model_name": "DropdownModel",
            "_options_labels": [
              "Piedra",
              "Papel",
              "Tijera",
              "Salir"
            ],
            "_view_count": null,
            "_view_module": "@jupyter-widgets/controls",
            "_view_module_version": "1.5.0",
            "_view_name": "DropdownView",
            "description": "Elige:",
            "description_tooltip": null,
            "disabled": false,
            "index": 1,
            "layout": "IPY_MODEL_bf511311d8fc4d298451a2770861cbb5",
            "style": "IPY_MODEL_15e0733100e24f11867a264e43956fcf"
          }
        },
        "bf511311d8fc4d298451a2770861cbb5": {
          "model_module": "@jupyter-widgets/base",
          "model_name": "LayoutModel",
          "model_module_version": "1.2.0",
          "state": {
            "_model_module": "@jupyter-widgets/base",
            "_model_module_version": "1.2.0",
            "_model_name": "LayoutModel",
            "_view_count": null,
            "_view_module": "@jupyter-widgets/base",
            "_view_module_version": "1.2.0",
            "_view_name": "LayoutView",
            "align_content": null,
            "align_items": null,
            "align_self": null,
            "border": null,
            "bottom": null,
            "display": null,
            "flex": null,
            "flex_flow": null,
            "grid_area": null,
            "grid_auto_columns": null,
            "grid_auto_flow": null,
            "grid_auto_rows": null,
            "grid_column": null,
            "grid_gap": null,
            "grid_row": null,
            "grid_template_areas": null,
            "grid_template_columns": null,
            "grid_template_rows": null,
            "height": null,
            "justify_content": null,
            "justify_items": null,
            "left": null,
            "margin": null,
            "max_height": null,
            "max_width": null,
            "min_height": null,
            "min_width": null,
            "object_fit": null,
            "object_position": null,
            "order": null,
            "overflow": null,
            "overflow_x": null,
            "overflow_y": null,
            "padding": null,
            "right": null,
            "top": null,
            "visibility": null,
            "width": null
          }
        },
        "15e0733100e24f11867a264e43956fcf": {
          "model_module": "@jupyter-widgets/controls",
          "model_name": "DescriptionStyleModel",
          "model_module_version": "1.5.0",
          "state": {
            "_model_module": "@jupyter-widgets/controls",
            "_model_module_version": "1.5.0",
            "_model_name": "DescriptionStyleModel",
            "_view_count": null,
            "_view_module": "@jupyter-widgets/base",
            "_view_module_version": "1.2.0",
            "_view_name": "StyleView",
            "description_width": ""
          }
        }
      }
    }
  },
  "nbformat": 4,
  "nbformat_minor": 0
}